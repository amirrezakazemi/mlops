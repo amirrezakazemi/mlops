{
 "cells": [
  {
   "cell_type": "code",
   "execution_count": 15,
   "metadata": {},
   "outputs": [],
   "source": [
    "import pandas as pd\n",
    "import seaborn as sns\n",
    "from sklearn.feature_extraction import DictVectorizer\n",
    "from sklearn.linear_model import LinearRegression\n",
    "from sklearn.metrics import mean_squared_error\n",
    "import numpy as np"
   ]
  },
  {
   "cell_type": "markdown",
   "metadata": {},
   "source": [
    "Train Data Prep"
   ]
  },
  {
   "cell_type": "code",
   "execution_count": 31,
   "metadata": {},
   "outputs": [],
   "source": [
    "def data_prep(filename):\n",
    "    df = pd.read_parquet(filename)\n",
    "    print(df.shape[1])\n",
    "    count_all = df.shape[0]\n",
    "    df.tpep_dropoff_datetime = pd.to_datetime(df.tpep_dropoff_datetime)\n",
    "    df.tpep_pickup_datetime = pd.to_datetime(df.tpep_pickup_datetime)\n",
    "    df['duration'] = df.tpep_dropoff_datetime - df.tpep_pickup_datetime\n",
    "    df.duration = df.duration.apply(lambda td: td.total_seconds()/60)\n",
    "    print(np.std(df['duration']))\n",
    "    df = df[(df['duration'] >= 1) & (df['duration'] <= 60)]\n",
    "    count_filt = df.shape[0]\n",
    "    print(count_filt/count_all)\n",
    "    return df\n"
   ]
  },
  {
   "cell_type": "code",
   "execution_count": 32,
   "metadata": {},
   "outputs": [
    {
     "name": "stdout",
     "output_type": "stream",
     "text": [
      "19\n",
      "46.44529571272228\n",
      "0.9827547930522406\n",
      "(2421440, 515)\n",
      "19\n",
      "47.26393283611246\n",
      "0.979444397269143\n"
     ]
    },
    {
     "data": {
      "text/plain": [
       "6.986191065263967"
      ]
     },
     "execution_count": 32,
     "metadata": {},
     "output_type": "execute_result"
    }
   ],
   "source": [
    "train_filename = \"data/yellow_tripdata_2022-01.parquet\"\n",
    "val_filename = \"data/yellow_tripdata_2022-02.parquet\"\n",
    "target = 'duration'\n",
    "\n",
    "dv = DictVectorizer()\n",
    "\n",
    "train_df = data_prep(train_filename)\n",
    "categorical = ['PULocationID', 'DOLocationID']\n",
    "train_df[categorical] = train_df[categorical].astype(str)\n",
    "train_dict = train_df[categorical].to_dict(orient='records')\n",
    "X_train = dv.fit_transform(train_dict)\n",
    "print(X_train.shape)\n",
    "y_train = train_df[target].values\n",
    "\n",
    "val_df = data_prep(val_filename)\n",
    "val_df[categorical] = val_df[categorical].astype(str)\n",
    "val_dict = val_df[categorical].to_dict(orient='records')\n",
    "X_val = dv.transform(val_dict)\n",
    "y_val = val_df[target].values\n",
    "\n",
    "lr = LinearRegression()\n",
    "lr.fit(X_train, y_train)\n",
    "y_pred = lr.predict(X_train)\n",
    "rmse = np.sqrt(mean_squared_error(y_train, y_pred))\n",
    "rmse"
   ]
  },
  {
   "cell_type": "code",
   "execution_count": 29,
   "metadata": {},
   "outputs": [
    {
     "data": {
      "text/plain": [
       "7.786413838484518"
      ]
     },
     "execution_count": 29,
     "metadata": {},
     "output_type": "execute_result"
    }
   ],
   "source": [
    "y_pred = lr.predict(X_val)\n",
    "rmse = np.sqrt(mean_squared_error(y_val, y_pred))\n",
    "rmse"
   ]
  }
 ],
 "metadata": {
  "kernelspec": {
   "display_name": "Python 3.9.7 ('mlops')",
   "language": "python",
   "name": "python3"
  },
  "language_info": {
   "codemirror_mode": {
    "name": "ipython",
    "version": 3
   },
   "file_extension": ".py",
   "mimetype": "text/x-python",
   "name": "python",
   "nbconvert_exporter": "python",
   "pygments_lexer": "ipython3",
   "version": "3.9.7"
  },
  "orig_nbformat": 4,
  "vscode": {
   "interpreter": {
    "hash": "486523b565b9b87ff5e9aa509cf18907f0d2d185e807a7b098598cbd28a708be"
   }
  }
 },
 "nbformat": 4,
 "nbformat_minor": 2
}
